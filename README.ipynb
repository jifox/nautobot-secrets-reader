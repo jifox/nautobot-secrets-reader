{
 "cells": [
  {
   "cell_type": "markdown",
   "id": "9bef4035-91fc-4d8b-9341-efb8804adbd3",
   "metadata": {},
   "source": [
    "# Python Module nautobot-secread\n",
    "\n",
    "### Nautobot Secrets Python Modul\n",
    "\n",
    "**Nautobot** allows the definition of **Secrets Groups** which contain a list of secrets used to access devices, etc. For security reasons, Nautobot generally does not store sensitive secrets (device access credentials, systems-integration API tokens, etc.) in its own database.\n",
    "\n",
    "This module provides access to the secrets stored in a compatible secrets provider. Only access to the \"Delinea/Thycotic Secret Server\" is currently implemented.\n",
    "\n",
    "refere to:\n",
    "\n",
    "* Nautobot Secrets Dokumentation:  <https://nautobot.readthedocs.io/en/latest/core-functionality/secrets>\n",
    "* Nautobot-Plugin-Secrets-Providers: <https://github.com/nautobot/nautobot-plugin-secrets-providers>\n"
   ]
  },
  {
   "cell_type": "markdown",
   "id": "4836d804-7289-4123-bcfd-6f3da908989a",
   "metadata": {},
   "source": [
    "## Development Environment Installation\n",
    "\n",
    "**Install Poetry**\n",
    "\n",
    "Poetry must be installed before the Python Virtual Environment can be activated. see: Poetry Documentation\n",
    "see: [Poetry Docomentation](https://python-poetry.org/docs/)\n",
    "\n",
    "At the time of this writing, Poetry is installed using the following command:\n",
    "\n",
    "```bash\n",
    "curl -sSL https://raw.githubusercontent.com/python-poetry/poetry/master/install-poetry.py | python -\n",
    "```\n",
    "\n",
    "**Virtual Environment**\n",
    "\n",
    "Mit `poetry` wird das Python Virtual Environment initialisiert\n",
    "\n",
    "```bash\n",
    "# Deactivate eventually active virtual environment\n",
    "deactivate\n",
    "\n",
    "# Specify python version to use\n",
    "poetry env use 3.9\n",
    "\n",
    "# Install modul and development packages\n",
    "poetry install\n",
    "\n",
    "# Activate virtual environment\n",
    "poetry shell\n",
    "```"
   ]
  },
  {
   "cell_type": "markdown",
   "id": "7e86bf47-3213-416b-b066-2b09af0e2ea7",
   "metadata": {},
   "source": [
    "## Configuration\n",
    "\n",
    "The following environment variables must be configured to access _Nautobot_ and the _Delinea/Thycotic Secret Server_.\n",
    "\n",
    "This can be done in the `.env` file to\n",
    "\n",
    "```\n",
    "#############################################################################\n",
    "# Settings for Nautobot Access\n",
    "#     e.g. Server: https://nautobot-dev.example.local:8080\n",
    "#\n",
    "NAUTOBOT_API_ENDPOINT|https://nautobot-prod.example.local:8083\n",
    "NAUTOBOT_TOKEN|1234567890123456789012345678901234567890\n",
    "NAUTOBOT_API_VERSION|1.3\n",
    "\n",
    "\n",
    "#############################################################################\n",
    "# Settings for Thycotic Secret-Server-Reader\n",
    "#     https://github.com/thycotic/python-tss-sdk\n",
    "\n",
    "SECRET_SERVER_BASE_URL='https://pw.example.local/SecretServer'\n",
    "\n",
    "# SECRET_SERVER_IS_CLOUD_BASED: (optional) Set to 'True' if you access a\n",
    "#     cloud based service. (Default: 'False' on-prem)\n",
    "# SECRET_SERVER_IS_CLOUD_BASED='False'\n",
    "\n",
    "# Required when SECRET_SERVER_IS_CLOUD_BASED == True\n",
    "# SECRET_SERVER_TENANT=''\n",
    "\n",
    "# Specify either username and password or token. If both are defined\n",
    "# username and password will be used for authentication\n",
    "# Username | Password | Token | Domain | Authorizer\n",
    "#   def    |    def   |   *   |   -    | PasswordGrantAuthorizer\n",
    "#   def    |    def   |   *   |  def   | DomainPasswordGrantAuthorizer\n",
    "#    -     |    -     |  def  |   -    | AccessTokenAuthorizer\n",
    "SECRET_SERVER_USERNAME='pw_user'\n",
    "SECRET_SERVER_PASSWORD='pw_secret_password'\n",
    "# SECRET_SERVER_TOKEN=\"\"\n",
    "# SECRET_SERVER_DOMAIN=\"\"\n",
    "\n",
    "# REQUESTS_CA_BUNDLE (Optional)\n",
    "#   Specify the trusted certificates file path for self signed certificates\n",
    "#   e.g. '/etc/ssl/certs/ca-bundle.trust.crt'\n",
    "REQUESTS_CA_BUNDLE='/etc/ssl/certs/ca-certificates.crt'\n",
    "```"
   ]
  },
  {
   "cell_type": "markdown",
   "id": "ef12fc0e",
   "metadata": {},
   "source": [
    "\n",
    "## Device-Name Secrets\n",
    "\n",
    "\n",
    "Access to the secrets of a device can be seen in the following example:"
   ]
  },
  {
   "cell_type": "code",
   "execution_count": 3,
   "id": "2e4d45ac",
   "metadata": {},
   "outputs": [],
   "source": [
    "from nautobot_secrets_reader.secread import SecretsReader"
   ]
  },
  {
   "cell_type": "markdown",
   "id": "9014f5e1",
   "metadata": {},
   "source": [
    "```python\n",
    "class SecretsReader:\n",
    "    \"\"\"Access secrets provides by Nautobot secrets providers.\"\"\"\n",
    "\n",
    "    def get_credentials_for_device(self, device_name: str) -> List[Dict[str, Any]]:\n",
    "        \"\"\"Get credentials for device.\n",
    "\n",
    "        Args:\n",
    "            device_name (str): The Nautobot device name.\n",
    "\n",
    "        Returns:\n",
    "            List[Dict[str, Any]]: The list of all credentials in secrets group.\n",
    "\n",
    "            example: [ {'access_type': 'GENERIC',\n",
    "                        'secret_description': 'Cisco Switches ATBRKHKP',\n",
    "                        'secret_id': '63ced5a8-801f-4321-bdad-d0e17559377b',\n",
    "                        'secret_name': 'Demo Switches Password PWD',\n",
    "                        'secret_provider': 'thycotic-tss-path',\n",
    "                        'secret_slug': 'demo-switches-password-pwd',\n",
    "                        'secret_type': 'PASSWORD',\n",
    "                        'value': 'The-Password-Stored-in-Vault'},\n",
    "                    ]\n",
    "        raises:\n",
    "            ValueError: If the secrets provider is not supported.\n",
    "        \"\"\"\n",
    "\n",
    "```"
   ]
  },
  {
   "cell_type": "code",
   "execution_count": 4,
   "id": "400bb0e0",
   "metadata": {},
   "outputs": [],
   "source": [
    "DEVICE_NAME = \"ATKPTEST\"\n",
    "\n",
    "sr = SecretsReader()\n",
    "group_data = sr.get_credentials_for_device(DEVICE_NAME)"
   ]
  },
  {
   "cell_type": "markdown",
   "id": "ba1424fa",
   "metadata": {},
   "source": [
    "Die Daten der Nautobot Secrets Group sind im folgenden zu sehen.\n",
    "\n",
    "Dabei sind die Daten welche mit `secret_...` beginnen, Daten aus Nautobot. Das Feld `value` ist das Ergebnis der Anfrage beim entsprechenden **Secrets Provider**"
   ]
  },
  {
   "cell_type": "code",
   "execution_count": 5,
   "id": "3a76849b-c54c-4f0f-8ab0-476becee81f7",
   "metadata": {
    "jupyter": {
     "source_hidden": true
    },
    "tags": []
   },
   "outputs": [
    {
     "name": "stdout",
     "output_type": "stream",
     "text": [
      "[{'access_type': 'GENERIC',\n",
      "  'secret_description': '',\n",
      "  'secret_id': 'f5194ff8-5ffb-4b0e-a77f-ee7a9a3fd5e5',\n",
      "  'secret_name': 'Test-Password-Path',\n",
      "  'secret_provider': 'thycotic-tss-path',\n",
      "  'secret_slug': 'test-password-path',\n",
      "  'secret_type': 'PASSWORD',\n",
      "  'value': 'FLD-PASSWORD'},\n",
      " {'access_type': 'GENERIC',\n",
      "  'secret_description': '',\n",
      "  'secret_id': 'f5194ff8-5ffb-4b0e-a77f-ee7a9a3fd5e5',\n",
      "  'secret_name': 'Test-Password-Path',\n",
      "  'secret_provider': 'thycotic-tss-path',\n",
      "  'secret_slug': 'test-password-path',\n",
      "  'secret_type': 'SECRET',\n",
      "  'value': 'FLD-PASSWORD'},\n",
      " {'access_type': 'GENERIC',\n",
      "  'secret_description': 'Username',\n",
      "  'secret_id': '3f3a7832-fe45-46b3-93d5-eafbd97de565',\n",
      "  'secret_name': 'TEST-User-ID',\n",
      "  'secret_provider': 'thycotic-tss-id',\n",
      "  'secret_slug': 'test-test-user-id',\n",
      "  'secret_type': 'USERNAME',\n",
      "  'value': 'FLD-Username'}]\n"
     ]
    }
   ],
   "source": [
    "# Imports only for this document\n",
    "from pprint import pprint\n",
    "pprint(group_data)"
   ]
  },
  {
   "cell_type": "markdown",
   "id": "05e16ded",
   "metadata": {},
   "source": [
    "## Filter the Results\n",
    "\n",
    "The following routine is available for filtering the data via `access_type`:\n",
    "\n",
    "https://nautobot.readthedocs.io/en/latest/core-functionality/secrets/\n",
    "\n",
    "At the time writing, the following `access_type`s were available (in the data set without \"TYPE_...\"):\n",
    "\n",
    "| access_type   | description |\n",
    "|---|---|\n",
    "| TYPE_GENERIC  | \"Generic\"  |\n",
    "| TYPE_CONSOLE  | \"Console\"  |\n",
    "| TYPE_GNMI     | \"gNMI\"     |\n",
    "| TYPE_HTTP     | \"HTTP(S)\"  |\n",
    "| TYPE_NETCONF  | \"NETCONF\"  |\n",
    "| TYPE_REST     | \"REST\"     |\n",
    "| TYPE_RESTCONF | \"RESTCONF\" |\n",
    "| TYPE_SNMP     | \"SNMP\"     |\n",
    "| TYPE_SSH      | \"SSH\"      |\n",
    "\n",
    "e.g.: TYPE_GENERIC is stored as \"GENERIC\".\n",
    "\n",
    "The current selection can be seen in the class: [class SecretsGroupAccessTypeChoices(ChoiceSet)](https://github.com/nautobot/nautobot/blob/develop/nautobot/extras/choices.py)\n",
    "\n",
    "\n",
    "```python\n",
    "class SecretsReader:\n",
    "    \"\"\"Access secrets provides by Nautobot secrets providers.\"\"\"\n",
    "\n",
    "    def filter_access_type(self, credentials: List[Dict[str, Any]], access_type: str) -> Dict[str, Any]:\n",
    "        \"\"\"Filter credentials by access type.\n",
    "\n",
    "        Args:\n",
    "            credentials (List[Dict[str, Any]]): The secrets_group_info as returned by\n",
    "                    get_credentials_for_secrets_group_id() or\n",
    "                    get_credentials_for_device().\n",
    "            access_type (str): The access type. \n",
    "                    see:\n",
    "                        class SecretsGroupAccessTypeChoices(ChoiceSet) in\n",
    "                        https://github.com/nautobot/nautobot/blob/develop/nautobot/extras/choices.py\n",
    "\n",
    "        Returns:\n",
    "            List[Dict[str, Any]]: The filtered credentials.\n",
    "        \"\"\"\n",
    "```"
   ]
  },
  {
   "cell_type": "code",
   "execution_count": 6,
   "id": "b0a601a0",
   "metadata": {},
   "outputs": [
    {
     "name": "stdout",
     "output_type": "stream",
     "text": [
      "{'password': 'FLD-PASSWORD',\n",
      " 'secret': 'FLD-PASSWORD',\n",
      " 'username': 'FLD-Username'}\n"
     ]
    }
   ],
   "source": [
    "generic = sr.filter_access_type(group_data, \"GENERIC\")\n",
    "\n",
    "pprint(generic)"
   ]
  },
  {
   "cell_type": "markdown",
   "id": "a9623d09-af86-40d6-aa6b-f52cf0e559ab",
   "metadata": {},
   "source": [
    "## Nautobot Group-ID Secrets\n",
    "\n",
    "The secrets for a particular Secrets Group can be selected from Nautobot by Group-ID as follows:"
   ]
  },
  {
   "cell_type": "code",
   "execution_count": 7,
   "id": "e518e1de-622b-439f-bc58-f05b6f79d0a2",
   "metadata": {},
   "outputs": [],
   "source": [
    "group_id = \"43974686-e26c-40a5-8951-854a609be812\"\n",
    "secrets_per_id = sr.get_credentials_for_secrets_group_id(group_id)"
   ]
  },
  {
   "cell_type": "code",
   "execution_count": 9,
   "id": "8b5bbbb8-58d1-4046-a585-12a0c8409d63",
   "metadata": {},
   "outputs": [
    {
     "name": "stdout",
     "output_type": "stream",
     "text": [
      "[{'access_type': 'GENERIC',\n",
      "  'secret_description': '',\n",
      "  'secret_id': 'f5194ff8-5ffb-4b0e-a77f-ee7a9a3fd5e5',\n",
      "  'secret_name': 'Test-Password-Path',\n",
      "  'secret_provider': 'thycotic-tss-path',\n",
      "  'secret_slug': 'test-password-path',\n",
      "  'secret_type': 'PASSWORD',\n",
      "  'value': 'FLD-PASSWORD'},\n",
      " {'access_type': 'GENERIC',\n",
      "  'secret_description': '',\n",
      "  'secret_id': 'f5194ff8-5ffb-4b0e-a77f-ee7a9a3fd5e5',\n",
      "  'secret_name': 'Test-Password-Path',\n",
      "  'secret_provider': 'thycotic-tss-path',\n",
      "  'secret_slug': 'test-password-path',\n",
      "  'secret_type': 'SECRET',\n",
      "  'value': 'FLD-PASSWORD'},\n",
      " {'access_type': 'GENERIC',\n",
      "  'secret_description': 'Username',\n",
      "  'secret_id': '3f3a7832-fe45-46b3-93d5-eafbd97de565',\n",
      "  'secret_name': 'TEST-User-ID',\n",
      "  'secret_provider': 'thycotic-tss-id',\n",
      "  'secret_slug': 'test-test-user-id',\n",
      "  'secret_type': 'USERNAME',\n",
      "  'value': 'FLD-Username'}]\n"
     ]
    }
   ],
   "source": [
    "pprint(secrets_per_id)"
   ]
  },
  {
   "cell_type": "code",
   "execution_count": 10,
   "id": "ffcb88b9-7298-4cf2-8558-fb9f8b01fb83",
   "metadata": {},
   "outputs": [
    {
     "name": "stdout",
     "output_type": "stream",
     "text": [
      "============================= test session starts ==============================\n",
      "platform linux -- Python 3.9.10, pytest-7.0.1, pluggy-1.0.0\n",
      "rootdir: /home/ansible/src/secret-server-reader\n",
      "plugins: pylama-7.7.1, anyio-3.6.1\n",
      "collected 4 items\n",
      "\n",
      "nautobot_secrets_reader/tests/test_secread.py ...[{'access_type': 'GENERIC',\n",
      "  'secret_description': '',\n",
      "  'secret_id': 'f5194ff8-5ffb-4b0e-a77f-ee7a9a3fd5e5',\n",
      "  'secret_name': 'Test-Password-Path',\n",
      "  'secret_provider': 'thycotic-tss-path',\n",
      "  'secret_slug': 'test-password-path',\n",
      "  'secret_type': 'PASSWORD',\n",
      "  'value': 'FLD-PASSWORD'},\n",
      " {'access_type': 'GENERIC',\n",
      "  'secret_description': '',\n",
      "  'secret_id': 'f5194ff8-5ffb-4b0e-a77f-ee7a9a3fd5e5',\n",
      "  'secret_name': 'Test-Password-Path',\n",
      "  'secret_provider': 'thycotic-tss-path',\n",
      "  'secret_slug': 'test-password-path',\n",
      "  'secret_type': 'SECRET',\n",
      "  'value': 'FLD-PASSWORD'},\n",
      " {'access_type': 'GENERIC',\n",
      "  'secret_description': 'Username',\n",
      "  'secret_id': '3f3a7832-fe45-46b3-93d5-eafbd97de565',\n",
      "  'secret_name': 'TEST-User-ID',\n",
      "  'secret_provider': 'thycotic-tss-id',\n",
      "  'secret_slug': 'test-test-user-id',\n",
      "  'secret_type': 'USERNAME',\n",
      "  'value': 'FLD-Username'}]\n",
      "GENERIC: {'password': 'FLD-PASSWORD', 'secret': 'FLD-PASSWORD', 'username': 'FLD-Username'}\n",
      ".\n",
      "\n",
      "============================== 4 passed in 3.26s ===============================\n"
     ]
    }
   ],
   "source": [
    "%%bash\n",
    "# Running the Tests\n",
    "\n",
    "pytest nautobot_secrets_reader -s"
   ]
  },
  {
   "cell_type": "code",
   "execution_count": null,
   "id": "811e3806-cd7a-499a-9d3b-0c6c2d85f0ef",
   "metadata": {},
   "outputs": [],
   "source": []
  }
 ],
 "metadata": {
  "kernelspec": {
   "display_name": "Python 3",
   "language": "python",
   "name": "python3"
  },
  "language_info": {
   "codemirror_mode": {
    "name": "ipython",
    "version": 3
   },
   "file_extension": ".py",
   "mimetype": "text/x-python",
   "name": "python",
   "nbconvert_exporter": "python",
   "pygments_lexer": "ipython3",
   "version": "3.9.10"
  },
  "vscode": {
   "interpreter": {
    "hash": "8455e8501551ec551d9fd5c82947be9ba438fd8aa72cdbd9258ec2b9b9db43a1"
   }
  }
 },
 "nbformat": 4,
 "nbformat_minor": 5
}
